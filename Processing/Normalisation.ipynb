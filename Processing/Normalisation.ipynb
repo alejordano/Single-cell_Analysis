{
 "cells": [
  {
   "cell_type": "markdown",
   "id": "eb36c875",
   "metadata": {},
   "source": [
    "# Normalisation of samples per patient."
   ]
  },
  {
   "cell_type": "code",
   "execution_count": 1,
   "id": "8ec4636b",
   "metadata": {},
   "outputs": [
    {
     "name": "stderr",
     "output_type": "stream",
     "text": [
      "WARNING: If you miss a compact list, please try `print_header`!\n"
     ]
    },
    {
     "name": "stdout",
     "output_type": "stream",
     "text": [
      "-----\n",
      "anndata     0.7.6\n",
      "scanpy      1.7.2\n",
      "sinfo       0.3.1\n",
      "-----\n",
      "PIL                 8.2.0\n",
      "anndata             0.7.6\n",
      "anndata2ri          1.0.6\n",
      "backcall            0.2.0\n",
      "cffi                1.14.5\n",
      "cycler              0.10.0\n",
      "cython_runtime      NA\n",
      "dateutil            2.8.1\n",
      "decorator           4.4.2\n",
      "get_version         2.2\n",
      "google              NA\n",
      "h5py                2.10.0\n",
      "igraph              0.9.1\n",
      "ipykernel           5.5.3\n",
      "ipython_genutils    0.2.0\n",
      "ipywidgets          7.6.3\n",
      "jedi                0.18.0\n",
      "jinja2              2.11.3\n",
      "joblib              1.0.1\n",
      "kiwisolver          1.3.1\n",
      "legacy_api_wrap     1.2\n",
      "leidenalg           0.8.4\n",
      "llvmlite            0.36.0\n",
      "louvain             0.7.0\n",
      "markupsafe          1.1.1\n",
      "matplotlib          3.4.1\n",
      "mpl_toolkits        NA\n",
      "natsort             7.1.1\n",
      "numba               0.53.1\n",
      "numexpr             2.7.3\n",
      "numpy               1.20.2\n",
      "packaging           20.9\n",
      "pandas              1.2.4\n",
      "parso               0.8.2\n",
      "pexpect             4.8.0\n",
      "pickleshare         0.7.5\n",
      "pkg_resources       NA\n",
      "prompt_toolkit      3.0.18\n",
      "psutil              5.8.0\n",
      "ptyprocess          0.7.0\n",
      "pygments            2.8.1\n",
      "pyparsing           2.4.7\n",
      "pytz                2021.1\n",
      "rpy2                3.4.2\n",
      "scanpy              1.7.2\n",
      "scipy               1.6.3\n",
      "seaborn             0.11.1\n",
      "setuptools_scm      NA\n",
      "sinfo               0.3.1\n",
      "six                 1.15.0\n",
      "sklearn             0.24.1\n",
      "statsmodels         0.12.2\n",
      "storemagic          NA\n",
      "tables              3.6.1\n",
      "texttable           1.6.3\n",
      "tornado             6.1\n",
      "traitlets           5.0.5\n",
      "typing_extensions   NA\n",
      "tzlocal             NA\n",
      "wcwidth             0.2.5\n",
      "zipp                NA\n",
      "zmq                 22.0.3\n",
      "-----\n",
      "IPython             7.22.0\n",
      "jupyter_client      6.1.12\n",
      "jupyter_core        4.7.1\n",
      "notebook            6.3.0\n",
      "-----\n",
      "Python 3.7.10 | packaged by conda-forge | (default, Feb 19 2021, 16:07:37) [GCC 9.3.0]\n",
      "Linux-3.10.0-693.17.1.el7.x86_64-x86_64-with-centos-7.4.1708-Core\n",
      "16 logical CPU cores\n",
      "-----\n",
      "Session information updated at 2021-07-07 17:09\n",
      "\n"
     ]
    }
   ],
   "source": [
    "import scanpy as sc\n",
    "import pandas as pd\n",
    "import numpy as np\n",
    "#from bbknn import bbknn\n",
    "import matplotlib.pyplot as plt\n",
    "import scipy as sp\n",
    "\n",
    "from matplotlib import rcParams\n",
    "from matplotlib import colors\n",
    "import seaborn as sb\n",
    "\n",
    "import rpy2.rinterface_lib.callbacks\n",
    "import logging\n",
    "import anndata2ri\n",
    "\n",
    "\n",
    "plt.rcParams['figure.figsize']=(5,5) #rescale figures\n",
    "sc.settings.verbosity = 3\n",
    "sc.logging.print_versions()\n",
    "\n",
    "# Work with R\n",
    "from rpy2.robjects import pandas2ri\n",
    "# Automatically convert rpy2 outputs to pandas dataframes\n",
    "pandas2ri.activate()\n",
    "anndata2ri.activate()\n",
    "%load_ext rpy2.ipython"
   ]
  },
  {
   "cell_type": "markdown",
   "id": "2fb1523d",
   "metadata": {},
   "source": [
    "## Concatenate\n",
    "In R to follow with scran normalization."
   ]
  },
  {
   "cell_type": "code",
   "execution_count": 2,
   "id": "02e3659f",
   "metadata": {},
   "outputs": [],
   "source": [
    "dg=sc.read_h5ad('/data/cellrangerDatasets/Patient_Dg_cr.h5ad')\n",
    "mrd=sc.read_h5ad('/data/cellrangerDatasets/Patient_MRD_cr.h5ad')\n",
    "r=sc.read_h5ad('/data/cellrangerDatasets/Patient_R_cr.h5ad')\n",
    "\n",
    "adata=dg.concatenate(mrd, r, join = 'outer', batch_categories=['Patient_Dg', 'Patient_MRD', 'Patient_R'])\n",
    "adata\n",
    "\n",
    "adata.write(\"/data/cellrangerDatasets/Patient_cr.h5ad\")"
   ]
  },
  {
   "cell_type": "code",
   "execution_count": null,
   "id": "4fe61c06",
   "metadata": {},
   "outputs": [],
   "source": [
    "%%R\n",
    "#Load all the R libraries we will be using in the notebook\n",
    "library(dplyr)\n",
    "library(Seurat)\n",
    "library(SeuratDisk)\n",
    "library(patchwork)\n",
    "library(ggplot2)\n",
    "library(loomR)\n",
    "library(scater)\n",
    "library(cowplot)\n",
    "library(anndata)"
   ]
  },
  {
   "cell_type": "markdown",
   "id": "f9a36c36",
   "metadata": {},
   "source": [
    "## Normalisation\n",
    "Using normalisation function from scran that gives different clusters different size factors."
   ]
  },
  {
   "cell_type": "code",
   "execution_count": 4,
   "id": "26331aff",
   "metadata": {},
   "outputs": [
    {
     "name": "stderr",
     "output_type": "stream",
     "text": [
      "normalizing by total count per cell\n",
      "    finished (0:00:00): normalized adata.X and added    'n_counts', counts per cell before normalization (adata.obs)\n",
      "computing PCA\n",
      "    with n_comps=15\n",
      "    finished (0:00:27)\n",
      "computing neighbors\n",
      "    using 'X_pca' with n_pcs = 15\n",
      "    finished: added to `.uns['neighbors']`\n",
      "    `.obsp['distances']`, distances for each pair of neighbors\n",
      "    `.obsp['connectivities']`, weighted adjacency matrix (0:00:39)\n",
      "running Leiden clustering\n",
      "    finished: found 15 clusters and added\n",
      "    'groups', the cluster labels (adata.obs, categorical) (0:00:02)\n"
     ]
    }
   ],
   "source": [
    "#Perform a clustering for scran normalization in clusters\n",
    "adata_pp = adata.copy()\n",
    "sc.pp.normalize_per_cell(adata_pp, counts_per_cell_after=1e6)\n",
    "sc.pp.log1p(adata_pp)\n",
    "sc.pp.pca(adata_pp, n_comps=15)\n",
    "sc.pp.neighbors(adata_pp)\n",
    "sc.tl.leiden(adata_pp, key_added='groups', resolution=0.5)"
   ]
  },
  {
   "cell_type": "code",
   "execution_count": 5,
   "id": "585d4a65",
   "metadata": {},
   "outputs": [],
   "source": [
    "#Preprocess variables for scran normalization\n",
    "input_groups = adata_pp.obs['groups']"
   ]
  },
  {
   "cell_type": "markdown",
   "id": "0cda7493",
   "metadata": {},
   "source": [
    "Scran was updated since https://github.com/theislab/single-cell-tutorial/blob/master/latest_notebook/Case-study_Mouse-intestinal-epithelium_1906.ipynb was performed. It does not accept matrix anymore, instead it requires a singlecellexperiment object with an assay called counts. "
   ]
  },
  {
   "cell_type": "code",
   "execution_count": 6,
   "id": "b17d8682",
   "metadata": {},
   "outputs": [
    {
     "name": "stdout",
     "output_type": "stream",
     "text": [
      "class: SingleCellExperiment \n",
      "dim: 36601 18721 \n",
      "metadata(0):\n",
      "assays(2): X counts\n",
      "rownames(36601): MIR1302-2HG FAM138A ... AC007325.4 AC007325.2\n",
      "rowData names(2): gene_ids feature_types\n",
      "colnames(18721): AAACCCAAGTTCATCG-1-40389_Dg\n",
      "  AAACCCACACATCATG-1-40389_Dg ... TTTGTTGTCCTATTGT-1-40389_R\n",
      "  TTTGTTGTCCTCTGCA-1-40389_R\n",
      "colData names(4): n_counts n_genes percent_mito batch\n",
      "reducedDimNames(0):\n",
      "altExpNames(0):\n"
     ]
    }
   ],
   "source": [
    "%%R -i adata -i input_groups\n",
    "counts <- assay(adata, \"X\")\n",
    "counts(adata) <- counts\n",
    "adata"
   ]
  },
  {
   "cell_type": "code",
   "execution_count": 7,
   "id": "8d687e0f",
   "metadata": {},
   "outputs": [],
   "source": [
    "%%R -o adata\n",
    "library(scran)\n",
    "adata = computeSumFactors(adata, clusters=input_groups, min.mean=0.1)"
   ]
  },
  {
   "cell_type": "code",
   "execution_count": 9,
   "id": "9a7e3184",
   "metadata": {},
   "outputs": [
    {
     "data": {
      "image/png": "[encoded data removed]",
      "text/plain": [
       "<Figure size 396.058x360 with 1 Axes>"
      ]
     },
     "metadata": {
      "needs_background": "light"
     },
     "output_type": "display_data"
    },
    {
     "data": {
      "image/png": "[encoded data removed]",
      "text/plain": [
       "<Figure size 396.058x360 with 1 Axes>"
      ]
     },
     "metadata": {
      "needs_background": "light"
     },
     "output_type": "display_data"
    },
    {
     "name": "stderr",
     "output_type": "stream",
     "text": [
      "/home/ajordano/software/anaconda3/envs/env1/lib/python3.7/site-packages/seaborn/distributions.py:2557: FutureWarning: `distplot` is a deprecated function and will be removed in a future version. Please adapt your code to use either `displot` (a figure-level function with similar flexibility) or `histplot` (an axes-level function for histograms).\n",
      "  warnings.warn(msg, FutureWarning)\n"
     ]
    },
    {
     "data": {
      "image/png": "[encoded data removed]",
      "text/plain": [
       "<Figure size 360x360 with 1 Axes>"
      ]
     },
     "metadata": {
      "needs_background": "light"
     },
     "output_type": "display_data"
    }
   ],
   "source": [
    "# Visualize the estimated size factors\n",
    "sc.pl.scatter(adata, 'sizeFactor', 'n_counts')\n",
    "sc.pl.scatter(adata, 'sizeFactor', 'n_genes')\n",
    "\n",
    "sb.distplot(adata.obs['sizeFactor'], bins=50, kde=False)\n",
    "plt.show()"
   ]
  },
  {
   "cell_type": "code",
   "execution_count": 10,
   "id": "e05900e4",
   "metadata": {},
   "outputs": [
    {
     "data": {
      "text/plain": [
       "AnnData object with n_obs × n_vars = 18721 × 36601\n",
       "    obs: 'n_counts', 'n_genes', 'percent_mito', 'batch', 'sizeFactor'\n",
       "    var: 'gene_ids', 'feature_types'\n",
       "    layers: 'counts'"
      ]
     },
     "execution_count": 10,
     "metadata": {},
     "output_type": "execute_result"
    }
   ],
   "source": [
    "#Keep the count data in a counts layer\n",
    "adata.layers[\"counts\"] = adata.X.copy()\n",
    "adata"
   ]
  },
  {
   "cell_type": "code",
   "execution_count": 11,
   "id": "fca9e67a",
   "metadata": {},
   "outputs": [],
   "source": [
    "#Normalize adata \n",
    "adata.X /= adata.obs['sizeFactor'].values[:,None]\n",
    "adata.X = sp.sparse.csr_matrix(adata.X) # this step is necessary to infer HVG.\n",
    "sc.pp.log1p(adata)"
   ]
  },
  {
   "cell_type": "code",
   "execution_count": 12,
   "id": "16c021e2",
   "metadata": {},
   "outputs": [
    {
     "data": {
      "text/plain": [
       "AnnData object with n_obs × n_vars = 18721 × 36601\n",
       "    obs: 'n_counts', 'n_genes', 'percent_mito', 'batch', 'sizeFactor'\n",
       "    var: 'gene_ids', 'feature_types'\n",
       "    uns: 'log1p'\n",
       "    layers: 'counts', 'logcounts', 'RNA'"
      ]
     },
     "execution_count": 12,
     "metadata": {},
     "output_type": "execute_result"
    }
   ],
   "source": [
    "#Store the full data set in 'raw'as log-normalised data for statistical testing.\n",
    "adata.raw = adata\n",
    "adata.layers[\"logcounts\"] = adata.X.copy()\n",
    "adata"
   ]
  },
  {
   "cell_type": "code",
   "execution_count": 13,
   "id": "d75e52e1",
   "metadata": {},
   "outputs": [
    {
     "data": {
      "text/plain": [
       "Int32Dtype()"
      ]
     },
     "execution_count": 13,
     "metadata": {},
     "output_type": "execute_result"
    }
   ],
   "source": [
    "adata.obs['n_genes'].dtype"
   ]
  },
  {
   "cell_type": "code",
   "execution_count": 14,
   "id": "ab8065a1",
   "metadata": {},
   "outputs": [],
   "source": [
    "adata.obs['n_genes'] = adata.obs['n_genes'].astype('float64')"
   ]
  },
  {
   "cell_type": "code",
   "execution_count": 15,
   "id": "275c0a74",
   "metadata": {},
   "outputs": [],
   "source": [
    "adata.write(\"/data/processingDatasets/Patient_Norm.h5ad\")"
   ]
  }
 ],
 "metadata": {
  "kernelspec": {
   "display_name": "Python 3.8.10 64-bit",
   "language": "python",
   "name": "python3"
  },
  "language_info": {
   "codemirror_mode": {
    "name": "ipython",
    "version": 3
   },
   "file_extension": ".py",
   "mimetype": "text/x-python",
   "name": "python",
   "nbconvert_exporter": "python",
   "pygments_lexer": "ipython3",
   "version": "3.8.10"
  },
  "vscode": {
   "interpreter": {
    "hash": "916dbcbb3f70747c44a77c7bcd40155683ae19c65e1c03b4aa3499c5328201f1"
   }
  }
 },
 "nbformat": 4,
 "nbformat_minor": 5
}
